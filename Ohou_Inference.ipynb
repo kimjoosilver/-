{
  "nbformat": 4,
  "nbformat_minor": 0,
  "metadata": {
    "colab": {
      "provenance": []
    },
    "kernelspec": {
      "name": "python3",
      "display_name": "Python 3"
    },
    "language_info": {
      "name": "python"
    },
    "accelerator": "GPU",
    "gpuClass": "standard"
  },
  "cells": [
    {
      "cell_type": "markdown",
      "source": [
        "## Import"
      ],
      "metadata": {
        "id": "OfDVnHM_4Yt-"
      }
    },
    {
      "cell_type": "code",
      "execution_count": null,
      "metadata": {
        "id": "CWARZGoP0wQj"
      },
      "outputs": [],
      "source": [
        "import os\n",
        "from tqdm import tqdm\n",
        "import cv2\n",
        "from google.colab.patches import cv2_imshow\n",
        "import numpy as np\n",
        "import shutil\n",
        "from matplotlib import pyplot as plt\n",
        "import matplotlib.cm as cm\n",
        "\n",
        "import tensorflow as tf\n",
        "\n",
        "import pickle\n",
        "from tensorflow.keras import datasets, layers, models, applications\n",
        "from tensorflow.keras.applications.resnet50 import ResNet50\n",
        "from tensorflow.keras.preprocessing.image import ImageDataGenerator\n",
        "from sklearn.model_selection import train_test_split\n",
        "from sklearn.metrics import accuracy_score\n",
        "#import splitfolders"
      ]
    },
    {
      "cell_type": "markdown",
      "source": [
        "## 데이터 불러오기"
      ],
      "metadata": {
        "id": "ZLr6p9lKc26Z"
      }
    },
    {
      "cell_type": "code",
      "source": [
        "from google.colab import drive\n",
        "drive.mount('/content/drive')"
      ],
      "metadata": {
        "colab": {
          "base_uri": "https://localhost:8080/"
        },
        "id": "tyunm5zS4lHb",
        "outputId": "51095239-8c0f-4e17-9b41-979bb0ecf989"
      },
      "execution_count": null,
      "outputs": [
        {
          "output_type": "stream",
          "name": "stdout",
          "text": [
            "Drive already mounted at /content/drive; to attempt to forcibly remount, call drive.mount(\"/content/drive\", force_remount=True).\n"
          ]
        }
      ]
    },
    {
      "cell_type": "code",
      "source": [
        "label_names = os.listdir('/content/drive/MyDrive/이미지 분류 프로젝트(주은, 준석, 기훈)/data')\n",
        "# label2index, index2label 딕셔너리 생성\n",
        "label2index = {}\n",
        "index2label = {}\n",
        "i = 0\n",
        "for label in label_names:\n",
        "    label2index[label] = i\n",
        "    index2label[i] = label\n",
        "    i += 1\n",
        "\n",
        "print(label2index)\n",
        "print(index2label)"
      ],
      "metadata": {
        "id": "kNwV61_HzLfX",
        "colab": {
          "base_uri": "https://localhost:8080/"
        },
        "outputId": "34c93e2e-4d19-4f83-f28f-b23f9b0c2490"
      },
      "execution_count": null,
      "outputs": [
        {
          "output_type": "stream",
          "name": "stdout",
          "text": [
            "{'10000000_18': 0, '10000000_16': 1, '10000000_8': 2, '10000000_4': 3, '18000000_0': 4, '10000000_1': 5, '10000000_0': 6, '18000000_2': 7, '18000000_1': 8, '18000000_3': 9, '18000000_4': 10, '18000000_5': 11, '16000000_1': 12, '10000000_17': 13, '10000000_15': 14, '10000000_14': 15, '16000000_0': 16, '18000000_6': 17, '16000000_12': 18, '16000000_16': 19, '16000000_4': 20, '18000000_7': 21, '18000000_9': 22, '18000000_8': 23, '18000000_10': 24, '18000000_11': 25, '18000000_12': 26, '18000000_13': 27, '18000000_14': 28, '18000000_15': 29, '18000000_16': 30, '18000000_17': 31, '18000000_18': 32, '18000000_19': 33, '12000000_0': 34, '12000000_1': 35, '12000000_2': 36, '12000000_3': 37, '12000000_5': 38, '12000000_4': 39, '12000000_8': 40, '12000000_7': 41, '12000000_6': 42, '12000000_9': 43, '12000000_10': 44, '12000000_11': 45, '12000000_12': 46, '12000000_13': 47, '12000000_14': 48, '12000000_15': 49, '12000000_16': 50, '12000000_17': 51, '12000000_18': 52, '12000000_19': 53}\n",
            "{0: '10000000_18', 1: '10000000_16', 2: '10000000_8', 3: '10000000_4', 4: '18000000_0', 5: '10000000_1', 6: '10000000_0', 7: '18000000_2', 8: '18000000_1', 9: '18000000_3', 10: '18000000_4', 11: '18000000_5', 12: '16000000_1', 13: '10000000_17', 14: '10000000_15', 15: '10000000_14', 16: '16000000_0', 17: '18000000_6', 18: '16000000_12', 19: '16000000_16', 20: '16000000_4', 21: '18000000_7', 22: '18000000_9', 23: '18000000_8', 24: '18000000_10', 25: '18000000_11', 26: '18000000_12', 27: '18000000_13', 28: '18000000_14', 29: '18000000_15', 30: '18000000_16', 31: '18000000_17', 32: '18000000_18', 33: '18000000_19', 34: '12000000_0', 35: '12000000_1', 36: '12000000_2', 37: '12000000_3', 38: '12000000_5', 39: '12000000_4', 40: '12000000_8', 41: '12000000_7', 42: '12000000_6', 43: '12000000_9', 44: '12000000_10', 45: '12000000_11', 46: '12000000_12', 47: '12000000_13', 48: '12000000_14', 49: '12000000_15', 50: '12000000_16', 51: '12000000_17', 52: '12000000_18', 53: '12000000_19'}\n"
          ]
        }
      ]
    },
    {
      "cell_type": "code",
      "source": [
        "# 이미지 불러오기\n",
        "with open('/content/drive/MyDrive/이미지 분류 프로젝트(주은, 준석, 기훈)/output/x_train.pickle', 'rb') as f1:\n",
        "    x_train = pickle.load(f1)\n",
        "with open('/content/drive/MyDrive/이미지 분류 프로젝트(주은, 준석, 기훈)/output/x_test.pickle', 'rb') as f2:\n",
        "    x_test = pickle.load(f2)\n",
        "with open('/content/drive/MyDrive/이미지 분류 프로젝트(주은, 준석, 기훈)/output/x_val.pickle', 'rb') as f3:\n",
        "    x_val = pickle.load(f3)\n",
        "with open('/content/drive/MyDrive/이미지 분류 프로젝트(주은, 준석, 기훈)/output/x_real_test.pickle', 'rb') as f4:\n",
        "    x_real_test = pickle.load(f4)\n",
        "\n",
        "# 라벨 불러오기\n",
        "with open('/content/drive/MyDrive/이미지 분류 프로젝트(주은, 준석, 기훈)/output/train_labels.pickle', 'rb') as f1:\n",
        "    y_train = pickle.load(f1)\n",
        "with open('/content/drive/MyDrive/이미지 분류 프로젝트(주은, 준석, 기훈)/output/test_labels.pickle', 'rb') as f2:\n",
        "    y_test = pickle.load(f2)\n",
        "with open('/content/drive/MyDrive/이미지 분류 프로젝트(주은, 준석, 기훈)/output/val_labels.pickle', 'rb') as f3:\n",
        "    y_val = pickle.load(f3)"
      ],
      "metadata": {
        "id": "mhw3tsu-1UA5"
      },
      "execution_count": null,
      "outputs": []
    },
    {
      "cell_type": "code",
      "source": [
        "x_real_test.shape"
      ],
      "metadata": {
        "colab": {
          "base_uri": "https://localhost:8080/"
        },
        "id": "b7de53alEw99",
        "outputId": "b6a3617e-431d-4cf7-d675-ac67f89c6dc0"
      },
      "execution_count": null,
      "outputs": [
        {
          "output_type": "execute_result",
          "data": {
            "text/plain": [
              "(3, 144, 144, 3)"
            ]
          },
          "metadata": {},
          "execution_count": 31
        }
      ]
    },
    {
      "cell_type": "markdown",
      "source": [
        "# Models"
      ],
      "metadata": {
        "id": "d7pB1DeqMN8g"
      }
    },
    {
      "cell_type": "markdown",
      "source": [
        "## 1. Alexnet"
      ],
      "metadata": {
        "id": "3yKeW1LKb0CQ"
      }
    },
    {
      "cell_type": "code",
      "source": [
        "# model_alexnet = tf.keras.Sequential()\n",
        "\n",
        "# model_alexnet.add(layers.Conv2D(48, (11, 11), strides=4, activation = 'relu', input_shape = (144, 144, 3)))\n",
        "# model_alexnet.add(layers.Lambda(tf.nn.local_response_normalization))\n",
        "# model_alexnet.add(layers.MaxPooling2D((3, 3), strides=2))\n",
        "\n",
        "# model_alexnet.add(layers.Conv2D(128, (5, 5), strides = 1, padding='same', activation = 'relu'))\n",
        "# model_alexnet.add(layers.Lambda(tf.nn.local_response_normalization))\n",
        "# model_alexnet.add(layers.MaxPooling2D((3, 3), strides=2))\n",
        "\n",
        "# model_alexnet.add(layers.Conv2D(192, (3, 3), padding='same', activation = 'relu'))\n",
        "# model_alexnet.add(layers.Conv2D(192, (3, 3), padding='same', activation = 'relu'))\n",
        "# model_alexnet.add(layers.Conv2D(128, (3, 3), padding='same', activation = 'relu'))\n",
        "# model_alexnet.add(layers.MaxPooling2D((3, 3), strides=2))\n",
        "\n",
        "# model_alexnet.add(layers.Flatten())\n",
        "# model_alexnet.add(layers.Dense(256, activation = 'relu'))\n",
        "# model_alexnet.add(layers.Dense(128, activation = 'relu'))\n",
        "# model_alexnet.add(layers.Dense(len(label_names), activation = 'softmax'))\n",
        "\n",
        "# alex_checkpoint_path = '/content/drive/MyDrive/이미지 분류 프로젝트(주은, 준석, 기훈)/result/Alexnet/training_3' # /cp.ckpt.data-00000-of-00001"
      ],
      "metadata": {
        "id": "NcDpKfnWcxLt"
      },
      "execution_count": null,
      "outputs": []
    },
    {
      "cell_type": "code",
      "source": [
        "# latest = tf.train.latest_checkpoint(alex_checkpoint_path)\n",
        "# model_alexnet.load_weights(latest)\n",
        "\n",
        "# alexnet_pred = model_alexnet.predict(x_test)\n",
        "# label_test = np.argmax(y_test, axis=1)\n",
        "# accuracy_score(np.argmax(alexnet_pred, axis = 1), label_test)"
      ],
      "metadata": {
        "id": "Yop7wqEocxO1"
      },
      "execution_count": null,
      "outputs": []
    },
    {
      "cell_type": "code",
      "source": [
        "# alexnet_top3_acc = tf.keras.metrics.TopKCategoricalAccuracy(k=3)\n",
        "# alexnet_top3_acc.update_state(y_test, alexnet_pred)\n",
        "# print(\"Top-3 Accuracy:\", alexnet_top3_acc.result().numpy())"
      ],
      "metadata": {
        "id": "eOadCM8hcxRV"
      },
      "execution_count": null,
      "outputs": []
    },
    {
      "cell_type": "markdown",
      "source": [
        "## 2. Mobilenet_Large"
      ],
      "metadata": {
        "id": "xO_hHwi_cxUQ"
      }
    },
    {
      "cell_type": "code",
      "source": [
        "mobilenet = applications.MobileNetV3Large(include_top=False, input_shape = (144 ,144 ,3), weights = 'imagenet')\n",
        "\n",
        "inputs = tf.keras.Input(shape=(144 ,144 ,3))\n",
        "\n",
        "x = mobilenet(inputs, training=False)\n",
        "x = tf.keras.layers.Flatten(input_shape=mobilenet.output_shape[1:])(x)\n",
        "x = tf.keras.layers.Dense(256, activation='relu')(x)\n",
        "# x= tf.keras.layers.Dropout(0.2)(x)\n",
        "x = tf.keras.layers.Dense(128, activation='relu')(x)\n",
        "# x= tf.keras.layers.Dropout(0.2)(x)\n",
        "outputs = tf.keras.layers.Dense(len(label_names), activation='softmax')(x)\n",
        "\n",
        "mobilenet_model = tf.keras.Model(inputs, outputs)\n",
        "\n",
        "mobilenet_checkpoint_path = '/content/drive/MyDrive/이미지 분류 프로젝트(주은, 준석, 기훈)/result/Mobilenet/training_2'"
      ],
      "metadata": {
        "colab": {
          "base_uri": "https://localhost:8080/"
        },
        "id": "6eSic6KacxW0",
        "outputId": "50f7b0a5-e00a-41f4-c89d-6c56a4b1974b"
      },
      "execution_count": null,
      "outputs": [
        {
          "output_type": "stream",
          "name": "stderr",
          "text": [
            "WARNING:tensorflow:`input_shape` is undefined or non-square, or `rows` is not 224. Weights for input shape (224, 224) will be loaded as the default.\n"
          ]
        }
      ]
    },
    {
      "cell_type": "markdown",
      "source": [
        "Accuracy는 다음과 같다"
      ],
      "metadata": {
        "id": "zBw6dFDR1xmU"
      }
    },
    {
      "cell_type": "code",
      "source": [
        "latest = tf.train.latest_checkpoint(mobilenet_checkpoint_path)\n",
        "mobilenet_model.load_weights(latest)\n",
        "\n",
        "mobilenet_pred = mobilenet_model.predict(x_test)\n",
        "label_test = np.argmax(y_test, axis=1)\n",
        "accuracy_score(np.argmax(mobilenet_pred, axis = 1), label_test)"
      ],
      "metadata": {
        "colab": {
          "base_uri": "https://localhost:8080/"
        },
        "id": "P9EMIMu8cxZr",
        "outputId": "ffaea363-0872-4506-8afd-cab6f433365d"
      },
      "execution_count": null,
      "outputs": [
        {
          "output_type": "stream",
          "name": "stdout",
          "text": [
            "295/295 [==============================] - 6s 14ms/step\n"
          ]
        },
        {
          "output_type": "execute_result",
          "data": {
            "text/plain": [
              "0.7150588984399873"
            ]
          },
          "metadata": {},
          "execution_count": 36
        }
      ]
    },
    {
      "cell_type": "markdown",
      "source": [
        "Top3 accuracy는 다음과 같다"
      ],
      "metadata": {
        "id": "548JlyXJ14Cz"
      }
    },
    {
      "cell_type": "code",
      "source": [
        "mobilenet_top3_acc = tf.keras.metrics.TopKCategoricalAccuracy(k=3)\n",
        "mobilenet_top3_acc.update_state(y_test, mobilenet_pred)\n",
        "print(\"Top-3 Accuracy:\", mobilenet_top3_acc.result().numpy())"
      ],
      "metadata": {
        "colab": {
          "base_uri": "https://localhost:8080/"
        },
        "id": "V-qiq-w_cxcO",
        "outputId": "20977656-ac52-4b61-a2a0-5901dd4035e8"
      },
      "execution_count": null,
      "outputs": [
        {
          "output_type": "stream",
          "name": "stdout",
          "text": [
            "Top-3 Accuracy: 0.8961053\n"
          ]
        }
      ]
    },
    {
      "cell_type": "markdown",
      "source": [
        "## 3. VGG19"
      ],
      "metadata": {
        "id": "Zi8N2I2uAdQ3"
      }
    },
    {
      "cell_type": "code",
      "source": [
        "#import vgg19\n",
        "vgg19 = applications.VGG19(include_top=False, weights='imagenet', input_shape = (144 ,144 ,3))\n",
        "\n",
        "# model.Sequential()없이 모델 구축하는 방법\n",
        "inputs = tf.keras.Input(shape=(144 ,144 ,3))\n",
        "\n",
        "x = vgg19(inputs, training=False)\n",
        "x = tf.keras.layers.Flatten(input_shape=vgg19.output_shape[1:])(x)\n",
        "x = tf.keras.layers.Dense(512, activation='relu')(x)\n",
        "x = tf.keras.layers.Dense(256, activation='relu')(x)\n",
        "outputs = tf.keras.layers.Dense(len(label_names), activation='softmax')(x)\n",
        "\n",
        "model_vgg19 = tf.keras.Model(inputs, outputs)\n",
        "\n",
        "vgg19_checkpoint_path = '/content/drive/MyDrive/이미지 분류 프로젝트(주은, 준석, 기훈)/result/vgg19/training_2'"
      ],
      "metadata": {
        "id": "c-CtQiQtAdbP"
      },
      "execution_count": null,
      "outputs": []
    },
    {
      "cell_type": "markdown",
      "source": [
        "Accuracy는 다음과 같다"
      ],
      "metadata": {
        "id": "zHqNq_7Z17dj"
      }
    },
    {
      "cell_type": "code",
      "source": [
        "latest = tf.train.latest_checkpoint(vgg19_checkpoint_path)\n",
        "model_vgg19.load_weights(latest)\n",
        "\n",
        "vgg19_pred = model_vgg19.predict(x_test)\n",
        "label_test = np.argmax(y_test, axis=1)\n",
        "accuracy_score(np.argmax(vgg19_pred, axis = 1), label_test)"
      ],
      "metadata": {
        "colab": {
          "base_uri": "https://localhost:8080/"
        },
        "id": "ym6lM3FoAfxU",
        "outputId": "75f500e5-4bb9-4b1b-a8ee-d104edf690e2"
      },
      "execution_count": null,
      "outputs": [
        {
          "output_type": "stream",
          "name": "stdout",
          "text": [
            "295/295 [==============================] - 21s 70ms/step\n"
          ]
        },
        {
          "output_type": "execute_result",
          "data": {
            "text/plain": [
              "0.4975061020906293"
            ]
          },
          "metadata": {},
          "execution_count": 39
        }
      ]
    },
    {
      "cell_type": "markdown",
      "source": [
        "Top3 accuracy는 다음과 같다"
      ],
      "metadata": {
        "id": "qyAaLMGX18sx"
      }
    },
    {
      "cell_type": "code",
      "source": [
        "vgg19_top3_acc = tf.keras.metrics.TopKCategoricalAccuracy(k=3)\n",
        "vgg19_top3_acc.update_state(y_test, vgg19_pred)\n",
        "print(\"Top-3 Accuracy:\", vgg19_top3_acc.result().numpy())"
      ],
      "metadata": {
        "colab": {
          "base_uri": "https://localhost:8080/"
        },
        "id": "SOtR15xYDNlz",
        "outputId": "f0f02f3d-8be0-4b3c-9da9-f82a67145c7d"
      },
      "execution_count": null,
      "outputs": [
        {
          "output_type": "stream",
          "name": "stdout",
          "text": [
            "Top-3 Accuracy: 0.74052846\n"
          ]
        }
      ]
    },
    {
      "cell_type": "markdown",
      "source": [
        "## 4. ResNet50"
      ],
      "metadata": {
        "id": "cK5ZvnHWAf0V"
      }
    },
    {
      "cell_type": "code",
      "source": [
        "resnet_v1 = ResNet50(include_top=False, input_shape = (144 ,144 ,3), weights = 'imagenet')\n",
        "\n",
        "# model.Sequential()없이 모델 구축하는 방법\n",
        "inputs = tf.keras.Input(shape=(144 ,144 ,3))\n",
        "\n",
        "x = resnet_v1(inputs, training=False)\n",
        "x = tf.keras.layers.Flatten(input_shape=resnet_v1.output_shape[1:])(x)\n",
        "x = tf.keras.layers.Dense(512, activation='relu')(x)\n",
        "x = tf.keras.layers.Dense(256, activation='relu')(x)\n",
        "outputs = tf.keras.layers.Dense(len(label_names), activation='softmax')(x)\n",
        "\n",
        "model_resnet = tf.keras.Model(inputs, outputs)\n",
        "\n",
        "resnet_checkpoint_path = '/content/drive/MyDrive/이미지 분류 프로젝트(주은, 준석, 기훈)/training_2/result/ResNet'"
      ],
      "metadata": {
        "id": "CDyYj81KAmQK"
      },
      "execution_count": null,
      "outputs": []
    },
    {
      "cell_type": "markdown",
      "source": [
        "Accuracy는 다음과 같다"
      ],
      "metadata": {
        "id": "PJAjBSOg2ANN"
      }
    },
    {
      "cell_type": "code",
      "source": [
        "latest = tf.train.latest_checkpoint(resnet_checkpoint_path)\n",
        "model_resnet.load_weights(latest)\n",
        "\n",
        "resnet_pred = model_resnet.predict(x_test)\n",
        "label_test = np.argmax(y_test, axis=1)\n",
        "accuracy_score(np.argmax(resnet_pred, axis = 1), label_test)"
      ],
      "metadata": {
        "colab": {
          "base_uri": "https://localhost:8080/"
        },
        "id": "u95Bz7jSAmSs",
        "outputId": "1a731d0d-028c-4773-9951-c8614419c68d"
      },
      "execution_count": null,
      "outputs": [
        {
          "output_type": "stream",
          "name": "stdout",
          "text": [
            "295/295 [==============================] - 14s 44ms/step\n"
          ]
        },
        {
          "output_type": "execute_result",
          "data": {
            "text/plain": [
              "0.7173936113764194"
            ]
          },
          "metadata": {},
          "execution_count": 42
        }
      ]
    },
    {
      "cell_type": "markdown",
      "source": [
        "Top3 accuracy는 다음과 같다"
      ],
      "metadata": {
        "id": "d6KlwF8I2BRs"
      }
    },
    {
      "cell_type": "code",
      "source": [
        "resnet_top3_acc = tf.keras.metrics.TopKCategoricalAccuracy(k=3)\n",
        "resnet_top3_acc.update_state(y_test, resnet_pred)\n",
        "print(\"Top-3 Accuracy:\", resnet_top3_acc.result().numpy())"
      ],
      "metadata": {
        "colab": {
          "base_uri": "https://localhost:8080/"
        },
        "id": "WqpSOzd0DOAh",
        "outputId": "55c449f2-a7c7-400d-bc81-b3823e020bc1"
      },
      "execution_count": null,
      "outputs": [
        {
          "output_type": "stream",
          "name": "stdout",
          "text": [
            "Top-3 Accuracy: 0.90544415\n"
          ]
        }
      ]
    },
    {
      "cell_type": "markdown",
      "source": [
        "## 앙상블 모델\n",
        "\n",
        "MobileNet, Vgg19, ResNet을 soft voting 방식으로 앙상블 했을 때 결과는 다음과 같다"
      ],
      "metadata": {
        "id": "atDT2WximBON"
      }
    },
    {
      "cell_type": "code",
      "source": [
        "ensemble_pred = np.mean([mobilenet_pred, vgg19_pred, resnet_pred], axis=0)\n",
        "label_test = np.argmax(y_test, axis=1)\n",
        "accuracy_score(np.argmax(ensemble_pred, axis = 1), label_test)"
      ],
      "metadata": {
        "colab": {
          "base_uri": "https://localhost:8080/"
        },
        "id": "l7QJ3iGzmBLQ",
        "outputId": "8d63190f-e859-4851-aa64-9a40dc372749"
      },
      "execution_count": null,
      "outputs": [
        {
          "output_type": "execute_result",
          "data": {
            "text/plain": [
              "0.7444550567759737"
            ]
          },
          "metadata": {},
          "execution_count": 44
        }
      ]
    },
    {
      "cell_type": "code",
      "source": [
        "ensemble_top3_acc = tf.keras.metrics.TopKCategoricalAccuracy(k=3)\n",
        "ensemble_top3_acc.update_state(y_test, ensemble_pred)\n",
        "print(\"Top-3 Accuracy:\", ensemble_top3_acc.result().numpy())"
      ],
      "metadata": {
        "colab": {
          "base_uri": "https://localhost:8080/"
        },
        "id": "3OBCt3wzmBHh",
        "outputId": "6736cd91-29b8-4998-91b3-27eafe13a91a"
      },
      "execution_count": null,
      "outputs": [
        {
          "output_type": "stream",
          "name": "stdout",
          "text": [
            "Top-3 Accuracy: 0.9024727\n"
          ]
        }
      ]
    },
    {
      "cell_type": "markdown",
      "source": [
        "# Inference"
      ],
      "metadata": {
        "id": "-E2MYcfEpfe-"
      }
    },
    {
      "cell_type": "code",
      "source": [
        "#파일 불러오기\n",
        "with open('/content/drive/MyDrive/이미지 분류 프로젝트(주은, 준석, 기훈)/urls_dic.pickle', 'rb') as handle:\n",
        "    urls_dic=pickle.load(handle)"
      ],
      "metadata": {
        "id": "QMeTpWSCvUxu"
      },
      "execution_count": null,
      "outputs": []
    },
    {
      "cell_type": "code",
      "source": [
        "#이미지 불러오기\n",
        "img_path = '/content/drive/MyDrive/이미지 분류 프로젝트(주은, 준석, 기훈)/test_img'\n",
        "test_imgs = []\n",
        "\n",
        "for label in os.listdir(img_path):\n",
        "    test_imgs.append(img_path+'/'+label)"
      ],
      "metadata": {
        "id": "7E0QFsRhVFQQ"
      },
      "execution_count": null,
      "outputs": []
    },
    {
      "cell_type": "markdown",
      "source": [
        "사진을 올리면 가장 유사한 top3 제품의 상품명과 url을 알려준다"
      ],
      "metadata": {
        "id": "PcgHWkyJ28zl"
      }
    },
    {
      "cell_type": "code",
      "source": [
        "for img, real_test in zip(test_imgs, x_real_test):\n",
        "    ex_mobilenet_pred = mobilenet_model.predict(real_test.reshape(1, 144, 144, 3))\n",
        "    ex_vgg19_pred = model_vgg19.predict(real_test.reshape(1, 144, 144, 3))\n",
        "    ex_resnet_pred = model_resnet.predict(real_test.reshape(1, 144, 144, 3))\n",
        "    ex_ensemble_pred = np.mean([ex_mobilenet_pred, ex_vgg19_pred, ex_resnet_pred], axis=0)\n",
        "    top3_classes = np.argsort(-ex_ensemble_pred)[:, :3]\n",
        "    for classes in top3_classes:\n",
        "        image = cv2.imread(img)\n",
        "        cv2_imshow(image)\n",
        "        for i in classes:\n",
        "            print(index2label[i]) #제품명\n",
        "            print(urls_dic[index2label[i].split('_')[0]][int(index2label[i].split('_')[1])]) #해당 제품 url"
      ],
      "metadata": {
        "colab": {
          "base_uri": "https://localhost:8080/",
          "height": 939
        },
        "id": "HzI_GZXHyAjx",
        "outputId": "78c5c9f5-9be8-41b3-9e84-2bb18bdd7327"
      },
      "execution_count": null,
      "outputs": [
        {
          "output_type": "stream",
          "name": "stdout",
          "text": [
            "1/1 [==============================] - 0s 34ms/step\n",
            "1/1 [==============================] - 0s 25ms/step\n",
            "1/1 [==============================] - 0s 31ms/step\n"
          ]
        },
        {
          "output_type": "display_data",
          "data": {
            "text/plain": [
              "<PIL.Image.Image image mode=RGB size=144x144 at 0x7FCE391176D0>"
            ],
            "image/png": "[encoded data removed]"
          },
          "metadata": {}
        },
        {
          "output_type": "stream",
          "name": "stdout",
          "text": [
            "18000000_7\n",
            "https://ohou.se/productions/169814/selling\n",
            "18000000_4\n",
            "https://ohou.se/productions/264565/selling\n",
            "18000000_13\n",
            "https://ohou.se/productions/540903/selling\n",
            "1/1 [==============================] - 0s 29ms/step\n",
            "1/1 [==============================] - 0s 23ms/step\n",
            "1/1 [==============================] - 0s 29ms/step\n"
          ]
        },
        {
          "output_type": "display_data",
          "data": {
            "text/plain": [
              "<PIL.Image.Image image mode=RGB size=144x144 at 0x7FCE3907A670>"
            ],
            "image/png": "[encoded data removed]"
          },
          "metadata": {}
        },
        {
          "output_type": "stream",
          "name": "stdout",
          "text": [
            "10000000_14\n",
            "https://ohou.se/productions/170039/selling\n",
            "12000000_19\n",
            "https://ohou.se/productions/858047/selling\n",
            "12000000_1\n",
            "https://ohou.se/productions/424239/selling\n",
            "1/1 [==============================] - 0s 33ms/step\n",
            "1/1 [==============================] - 0s 30ms/step\n",
            "1/1 [==============================] - 0s 31ms/step\n"
          ]
        },
        {
          "output_type": "display_data",
          "data": {
            "text/plain": [
              "<PIL.Image.Image image mode=RGB size=144x144 at 0x7FCE39299CD0>"
            ],
            "image/png": "[encoded data removed]"
          },
          "metadata": {}
        },
        {
          "output_type": "stream",
          "name": "stdout",
          "text": [
            "12000000_1\n",
            "https://ohou.se/productions/424239/selling\n",
            "12000000_7\n",
            "https://ohou.se/productions/1085498/selling\n",
            "12000000_4\n",
            "https://ohou.se/productions/1384503/selling\n"
          ]
        }
      ]
    },
    {
      "cell_type": "code",
      "source": [],
      "metadata": {
        "id": "JvC83wMbLVXz"
      },
      "execution_count": null,
      "outputs": []
    }
  ]
}