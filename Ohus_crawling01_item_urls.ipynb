{
  "cells": [
    {
      "cell_type": "markdown",
      "metadata": {
        "id": "iy6fY6sV4NB1"
      },
      "source": [
        "# 오늘의집 상품 url 수집하는 파일\n",
        "\n",
        "가구, 패브릭, 가전 디지털, 주방, 데코 식물, 조명, 수납. 생활용품 카테고리에서 상위 20개의 url 링크를 data frame으로 만들고, 이를 pickle 형식으로 저장하였다.\n",
        "\n",
        "\n"
      ]
    },
    {
      "cell_type": "code",
      "execution_count": null,
      "metadata": {
        "id": "YkriGP3wUimk"
      },
      "outputs": [],
      "source": [
        "import requests\n",
        "from bs4 import BeautifulSoup\n",
        "import numpy as np\n",
        "import pandas as pd\n",
        "import pickle"
      ]
    },
    {
      "cell_type": "markdown",
      "metadata": {
        "id": "0U9eo1E5cNq-"
      },
      "source": [
        "## Make URL Data Frame"
      ]
    },
    {
      "cell_type": "code",
      "execution_count": null,
      "metadata": {
        "id": "uuVJIOOlbDiB"
      },
      "outputs": [],
      "source": [
        "base_url='https://store.ohou.se/ranks?type=best&category_id='\n",
        "\n",
        "#category: 가구, 패브릭, 가전 디지털, 주방, 데코 식물, 조명, 수납. 생활용품\n",
        "category_ids=['10000000','18000000','14000000','16000000','11000000','28000000','13000000','12000000']\n",
        "headers = {\n",
        "    'referer': 'https://store.ohou.se/_next/data/D3kQbgo5OYjLQAIrnkPO9/ranks.json?type=best&__state__=%7B%22key%22%3A%22442fizv1%22%7D',\n",
        "    'user-agent': 'Mozilla/5.0 (Windows NT 10.0; Win64; x64) AppleWebKit/537.36 (KHTML, like Gecko) Chrome/103.0.0.0 Safari/537.36'\n",
        "}\n",
        "\n",
        "dataset={}\n",
        "for category_id in category_ids:\n",
        "    urls=[]\n",
        "    url=base_url+category_id\n",
        "    resp=requests.get(url,headers=headers)\n",
        "    soup=BeautifulSoup(resp.content,\"lxml\")\n",
        "    a_tags=soup.select('div.css-b54ynu a.css-1enzbyj')\n",
        "    for a_tag in a_tags:\n",
        "        urls.append(a_tag['href'])\n",
        "    #딕셔너리에 저장하기\n",
        "    dataset[category_id]=urls"
      ]
    },
    {
      "cell_type": "code",
      "execution_count": null,
      "metadata": {
        "id": "nAViicJs3SPF"
      },
      "outputs": [],
      "source": [
        "#save df we made\n",
        "with open('urls_dic.pickle','wb') as handle:\n",
        "    pickle.dump(dataset, handle)"
      ]
    }
  ],
  "metadata": {
    "colab": {
      "provenance": []
    },
    "kernelspec": {
      "display_name": "Python 3",
      "name": "python3"
    },
    "language_info": {
      "name": "python"
    }
  },
  "nbformat": 4,
  "nbformat_minor": 0
}
