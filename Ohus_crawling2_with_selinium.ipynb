{
 "cells": [
  {
   "cell_type": "code",
   "execution_count": 1,
   "id": "c6ac4486",
   "metadata": {},
   "outputs": [
    {
     "name": "stdout",
     "output_type": "stream",
     "text": [
      "Requirement already satisfied: webdriver-manager in c:\\users\\user\\anaconda3\\lib\\site-packages (3.8.5)\n",
      "Requirement already satisfied: requests in c:\\users\\user\\anaconda3\\lib\\site-packages (from webdriver-manager) (2.28.1)\n",
      "Requirement already satisfied: packaging in c:\\users\\user\\anaconda3\\lib\\site-packages (from webdriver-manager) (21.3)\n",
      "Requirement already satisfied: python-dotenv in c:\\users\\user\\anaconda3\\lib\\site-packages (from webdriver-manager) (1.0.0)\n",
      "Requirement already satisfied: tqdm in c:\\users\\user\\anaconda3\\lib\\site-packages (from webdriver-manager) (4.64.1)\n",
      "Requirement already satisfied: pyparsing!=3.0.5,>=2.0.2 in c:\\users\\user\\anaconda3\\lib\\site-packages (from packaging->webdriver-manager) (3.0.9)\n",
      "Requirement already satisfied: charset-normalizer<3,>=2 in c:\\users\\user\\anaconda3\\lib\\site-packages (from requests->webdriver-manager) (2.0.4)\n",
      "Requirement already satisfied: urllib3<1.27,>=1.21.1 in c:\\users\\user\\anaconda3\\lib\\site-packages (from requests->webdriver-manager) (1.26.11)\n",
      "Requirement already satisfied: idna<4,>=2.5 in c:\\users\\user\\anaconda3\\lib\\site-packages (from requests->webdriver-manager) (3.3)\n",
      "Requirement already satisfied: certifi>=2017.4.17 in c:\\users\\user\\anaconda3\\lib\\site-packages (from requests->webdriver-manager) (2022.9.14)\n",
      "Requirement already satisfied: colorama in c:\\users\\user\\anaconda3\\lib\\site-packages (from tqdm->webdriver-manager) (0.4.5)\n",
      "Note: you may need to restart the kernel to use updated packages.\n"
     ]
    }
   ],
   "source": [
    "pip install webdriver-manager"
   ]
  },
  {
   "cell_type": "code",
   "execution_count": 2,
   "id": "016a8fe0",
   "metadata": {},
   "outputs": [],
   "source": [
    "import selenium\n",
    "import pandas as pd\n",
    "from bs4 import BeautifulSoup\n",
    "import requests\n",
    "import numpy as np\n",
    "from selenium import webdriver\n",
    "from selenium.webdriver.chrome.service import Service\n",
    "from webdriver_manager.chrome import ChromeDriverManager\n",
    "from selenium.webdriver.common.by import By\n",
    "from selenium.webdriver.common.keys import Keys\n",
    "import time\n",
    "import pickle\n",
    "import os\n",
    "from tqdm import tqdm \n",
    "import urllib.request"
   ]
  },
  {
   "cell_type": "code",
   "execution_count": 3,
   "id": "8b6e5345",
   "metadata": {},
   "outputs": [],
   "source": [
    "#파일 불러오기\n",
    "with open('C:/Users/User/Desktop/image_hw/urls_dic.pickle', 'rb') as handle:\n",
    "    urls_dic=pickle.load(handle)\n",
    "\n",
    "#with open('C:/Users/jooeun/Downloads/urls_dic.pickle', 'rb') as handle:\n",
    "#    urls_dic=pickle.load(handle)\n",
    "    "
   ]
  },
  {
   "cell_type": "code",
   "execution_count": 4,
   "id": "ddb88e08",
   "metadata": {},
   "outputs": [],
   "source": [
    "def init_chrome_driver():\n",
    "    chrome_options = webdriver.ChromeOptions()\n",
    "    chrome_driver = webdriver.Chrome(service=Service(ChromeDriverManager().install()), options=chrome_options)\n",
    "    return chrome_driver"
   ]
  },
  {
   "cell_type": "code",
   "execution_count": 5,
   "id": "015c1e9d",
   "metadata": {},
   "outputs": [
    {
     "data": {
      "text/plain": [
       "'https://ohou.se/productions/1414668/selling'"
      ]
     },
     "execution_count": 5,
     "metadata": {},
     "output_type": "execute_result"
    }
   ],
   "source": [
    "#urls_dic['28000000'][9]"
   ]
  },
  {
   "cell_type": "markdown",
   "id": "014b9f36",
   "metadata": {},
   "source": [
    "##  (Run this code)"
   ]
  },
  {
   "cell_type": "code",
   "execution_count": null,
   "id": "3ac3df28",
   "metadata": {},
   "outputs": [
    {
     "name": "stderr",
     "output_type": "stream",
     "text": [
      "\r\n",
      "  0%|          | 0/16 [00:00<?, ?it/s]"
     ]
    }
   ],
   "source": [
    "driver = init_chrome_driver()\n",
    "review_urls_dict={} #final urls\n",
    "\n",
    "category='10000000'\n",
    "temp_category_dict={} #가구 dictionary\n",
    "\n",
    "#k: n번째 제품부터 가져와라 # 전체 for문 돌리면 막혀서 제품별로 돌려야함\n",
    "k=4\n",
    "for url in tqdm(urls_dic[category][k:]):\n",
    "    temp_list=[]\n",
    "    driver.get(url)\n",
    "    #암시적 대기\n",
    "    driver.implicitly_wait(30)\n",
    "    #사진만 있는 리뷰 클릭\n",
    "    driver.find_element(By.XPATH, '/html/body/div[1]/div/div/div[2]/div[5]/div/div[1]/div/section[2]/div/div[2]/div/div/div[1]/button[3]').click()\n",
    "    #다음 페이지 넘어가는 버튼 생성\n",
    "    next_page=driver.find_elements(By.CLASS_NAME, \"_2XI47._3I7ex\")[0]\n",
    "\n",
    "    #페이지 끝까지 링크 모으기\n",
    "    count=0\n",
    "    while(count<=4000): #item당 사진이 2500개가 넘으면 다음 item으로 이동한다.\n",
    "        time.sleep(1)\n",
    "        for i in range(1,6):\n",
    "            try:\n",
    "                temp_tag=f'/html/body/div[1]/div/div/div[2]/div[5]/div/div[1]/div/section[2]/div/div[3]/div[{i}]/article/button/img'\n",
    "                img_tag=driver.find_element(By.XPATH, temp_tag)\n",
    "                img_url=img_tag.get_attribute(\"src\")\n",
    "                temp_list.append(img_url) #댓글 모음\n",
    "                #urllib.request.urlretrieve(img_url, \"C:/Users/User/Desktop/image_hw/\"+str(count)+\".jpg\")\n",
    "                urllib.request.urlretrieve(img_url, \"C:/Users/User/Desktop/image_hw/data/10000000/\"+str(k)+\"/\"+category+\"_\"+str(k)+\"_\"+str(count)+\".jpg\")\n",
    "                count+=1\n",
    "            except:\n",
    "                pass\n",
    "        try:\n",
    "            next_page.click() #다음 페이지 클릭\n",
    "        except:\n",
    "            break # click이 안되면 탈출\n",
    "    driver.quit() \n",
    "    temp_category_dict[url]=temp_list #가구1: [댓글 모음]\n",
    "    k+=1    \n",
    "review_urls_dict[category]=temp_category_dict"
   ]
  },
  {
   "cell_type": "code",
   "execution_count": null,
   "id": "06136b41",
   "metadata": {},
   "outputs": [],
   "source": []
  }
 ],
 "metadata": {
  "kernelspec": {
   "display_name": "Python 3 (ipykernel)",
   "language": "python",
   "name": "python3"
  },
  "language_info": {
   "codemirror_mode": {
    "name": "ipython",
    "version": 3
   },
   "file_extension": ".py",
   "mimetype": "text/x-python",
   "name": "python",
   "nbconvert_exporter": "python",
   "pygments_lexer": "ipython3",
   "version": "3.9.13"
  }
 },
 "nbformat": 4,
 "nbformat_minor": 5
}
