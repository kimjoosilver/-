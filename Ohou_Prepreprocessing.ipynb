{
  "nbformat": 4,
  "nbformat_minor": 0,
  "metadata": {
    "colab": {
      "provenance": []
    },
    "kernelspec": {
      "name": "python3",
      "display_name": "Python 3"
    },
    "language_info": {
      "name": "python"
    },
    "accelerator": "GPU",
    "gpuClass": "standard"
  },
  "cells": [
    {
      "cell_type": "markdown",
      "source": [
        "## 이미지 전처리 코드"
      ],
      "metadata": {
        "id": "9C_74Qj11DiA"
      }
    },
    {
      "cell_type": "code",
      "source": [
        "!pip install split-folders"
      ],
      "metadata": {
        "colab": {
          "base_uri": "https://localhost:8080/"
        },
        "id": "x8ppavYEEYUE",
        "outputId": "50e68943-4fc1-4b1f-dbba-c23d9b8dfbd5"
      },
      "execution_count": null,
      "outputs": [
        {
          "output_type": "stream",
          "name": "stdout",
          "text": [
            "Looking in indexes: https://pypi.org/simple, https://us-python.pkg.dev/colab-wheels/public/simple/\n",
            "Collecting split-folders\n",
            "  Downloading split_folders-0.5.1-py3-none-any.whl (8.4 kB)\n",
            "Installing collected packages: split-folders\n",
            "Successfully installed split-folders-0.5.1\n"
          ]
        }
      ]
    },
    {
      "cell_type": "code",
      "execution_count": null,
      "metadata": {
        "id": "CWARZGoP0wQj"
      },
      "outputs": [],
      "source": [
        "import os\n",
        "from tqdm import tqdm\n",
        "import cv2\n",
        "import numpy as np\n",
        "import shutil\n",
        "from matplotlib import pyplot as plt\n",
        "import matplotlib.cm as cm\n",
        "\n",
        "import tensorflow as tf\n",
        "\n",
        "import pickle\n",
        "from tensorflow.keras.applications.resnet50 import ResNet50\n",
        "from tensorflow.keras.preprocessing.image import ImageDataGenerator\n",
        "from sklearn.model_selection import train_test_split\n",
        "from sklearn.metrics import accuracy_score\n",
        "import splitfolders"
      ]
    },
    {
      "cell_type": "code",
      "source": [
        "from google.colab import drive\n",
        "drive.mount('/content/drive')"
      ],
      "metadata": {
        "id": "VjOHZ8YX4saL",
        "colab": {
          "base_uri": "https://localhost:8080/"
        },
        "outputId": "48bb2a0f-4683-4209-ef87-1b78c71c0330"
      },
      "execution_count": null,
      "outputs": [
        {
          "output_type": "stream",
          "name": "stdout",
          "text": [
            "Mounted at /content/drive\n"
          ]
        }
      ]
    },
    {
      "cell_type": "code",
      "source": [
        "base_dir='/content/drive/MyDrive/이미지 분류 프로젝트(주은, 준석, 기훈)/data/'\n",
        "folders=os.listdir('/content/drive/MyDrive/이미지 분류 프로젝트(주은, 준석, 기훈)/data/')\n",
        "\n",
        "dataset = {}\n",
        "for folder in folders:\n",
        "    dataset[str(folder)]=[]\n",
        "    files=os.listdir(base_dir+folder+'/')\n",
        "    for file in files[0:6]: #각 폴더 별로 5개의 데이터만 가지고 온다\n",
        "        my_file=str(base_dir+str(folder)+'/'+file)\n",
        "        dataset[str(folder)].append(my_file)\n",
        "\n",
        "label_names = os.listdir('/content/drive/MyDrive/이미지 분류 프로젝트(주은, 준석, 기훈)/data')"
      ],
      "metadata": {
        "id": "nYk86DiHxGYs"
      },
      "execution_count": null,
      "outputs": []
    },
    {
      "cell_type": "code",
      "source": [
        "# label2index, index2label 딕셔너리 생성\n",
        "label2index = {}\n",
        "index2label = {}\n",
        "i = 0\n",
        "for label in label_names:\n",
        "    label2index[label] = i\n",
        "    index2label[i] = label\n",
        "    i += 1\n",
        "\n",
        "print(label2index, index2label)"
      ],
      "metadata": {
        "colab": {
          "base_uri": "https://localhost:8080/"
        },
        "id": "51s0JT412udU",
        "outputId": "c41b93b8-29c6-4915-9ffa-ea15d010f4c9"
      },
      "execution_count": null,
      "outputs": [
        {
          "output_type": "stream",
          "name": "stdout",
          "text": [
            "{'12000000_0': 0, '10000000_18': 1, '10000000_16': 2, '10000000_8': 3, '10000000_4': 4, '18000000_0': 5, '10000000_1': 6, '10000000_0': 7, '18000000_2': 8, '18000000_1': 9, '18000000_3': 10, '18000000_4': 11, '18000000_5': 12, '16000000_1': 13, '10000000_17': 14, '10000000_15': 15, '10000000_14': 16, '16000000_0': 17, '18000000_6': 18, '16000000_12': 19, '16000000_16': 20, '16000000_4': 21, '18000000_7': 22, '18000000_9': 23, '18000000_8': 24, '18000000_10': 25, '18000000_11': 26, '18000000_12': 27, '18000000_13': 28, '18000000_14': 29, '18000000_15': 30, '18000000_16': 31, '18000000_17': 32, '18000000_18': 33, '18000000_19': 34, '12000000_1': 35, '12000000_2': 36, '12000000_3': 37, '12000000_5': 38, '12000000_4': 39, '12000000_8': 40, '12000000_7': 41, '12000000_6': 42, '12000000_9': 43, '12000000_10': 44, '12000000_11': 45, '12000000_12': 46, '12000000_13': 47, '12000000_14': 48, '12000000_15': 49, '12000000_16': 50, '12000000_17': 51, '12000000_18': 52, '12000000_19': 53} {0: '12000000_0', 1: '10000000_18', 2: '10000000_16', 3: '10000000_8', 4: '10000000_4', 5: '18000000_0', 6: '10000000_1', 7: '10000000_0', 8: '18000000_2', 9: '18000000_1', 10: '18000000_3', 11: '18000000_4', 12: '18000000_5', 13: '16000000_1', 14: '10000000_17', 15: '10000000_15', 16: '10000000_14', 17: '16000000_0', 18: '18000000_6', 19: '16000000_12', 20: '16000000_16', 21: '16000000_4', 22: '18000000_7', 23: '18000000_9', 24: '18000000_8', 25: '18000000_10', 26: '18000000_11', 27: '18000000_12', 28: '18000000_13', 29: '18000000_14', 30: '18000000_15', 31: '18000000_16', 32: '18000000_17', 33: '18000000_18', 34: '18000000_19', 35: '12000000_1', 36: '12000000_2', 37: '12000000_3', 38: '12000000_5', 39: '12000000_4', 40: '12000000_8', 41: '12000000_7', 42: '12000000_6', 43: '12000000_9', 44: '12000000_10', 45: '12000000_11', 46: '12000000_12', 47: '12000000_13', 48: '12000000_14', 49: '12000000_15', 50: '12000000_16', 51: '12000000_17', 52: '12000000_18', 53: '12000000_19'}\n"
          ]
        }
      ]
    },
    {
      "cell_type": "markdown",
      "source": [
        "### Resize"
      ],
      "metadata": {
        "id": "JfKoMdt9W6as"
      }
    },
    {
      "cell_type": "code",
      "source": [
        "def resize_img(img_path, img_size=144):\n",
        "    img = cv2.imread(img_path)\n",
        "\n",
        "    if(img.shape[1] > img.shape[0]) :\n",
        "        ratio = img_size/img.shape[1]\n",
        "    else :\n",
        "        ratio = img_size/img.shape[0]\n",
        "\n",
        "    img = cv2.resize(img, dsize=(0, 0), fx=ratio, fy=ratio, interpolation=cv2.INTER_LINEAR)\n",
        "\n",
        "    # 그림 주변에 검은색으로 칠하기\n",
        "    w, h = img.shape[1], img.shape[0]\n",
        "\n",
        "    dw = (img_size-w)/2 # img_size와 w의 차이\n",
        "    dh = (img_size-h)/2 # img_size와 h의 차이\n",
        "\n",
        "    M = np.float32([[1,0,dw], [0,1,dh]])  #(2*3 이차원 행렬)\n",
        "    img_re = cv2.warpAffine(img, M, (144, 144)) #이동변환\n",
        "    return img_re"
      ],
      "metadata": {
        "id": "1ug_Jr2g1FNP"
      },
      "execution_count": null,
      "outputs": []
    },
    {
      "cell_type": "code",
      "source": [
        "for label, img_paths in dataset.items():\n",
        "    for i in img_paths:\n",
        "        img = cv2.imread(i)\n",
        "        try:\n",
        "            if img.shape != (144, 144, 3):\n",
        "                resize_img(img_path, img_size=144)\n",
        "        except:\n",
        "            print('Error')\n",
        "            print(i)\n",
        "            pass"
      ],
      "metadata": {
        "id": "fvl_6sYFRdu2"
      },
      "execution_count": null,
      "outputs": []
    },
    {
      "cell_type": "markdown",
      "source": [
        "### Dataset 분리"
      ],
      "metadata": {
        "id": "it8_wKefMiTY"
      }
    },
    {
      "cell_type": "code",
      "source": [
        "splitfolders.ratio('/content/drive/MyDrive/이미지 분류 프로젝트(주은, 준석, 기훈)/data', output='dataset', seed=77, ratio=(0.6, 0.2, 0.2))"
      ],
      "metadata": {
        "colab": {
          "base_uri": "https://localhost:8080/"
        },
        "id": "FRjyEPC6MiQp",
        "outputId": "015512c7-df29-4cc9-f8fd-3850b2fff8c5"
      },
      "execution_count": null,
      "outputs": [
        {
          "output_type": "stream",
          "name": "stderr",
          "text": [
            "Copying files: 46976 files [16:09, 48.43 files/s] \n"
          ]
        }
      ]
    },
    {
      "cell_type": "code",
      "source": [
        "real_test_path = '/content/drive/MyDrive/이미지 분류 프로젝트(주은, 준석, 기훈)/test_img'\n",
        "real_test_dataset = []\n",
        "\n",
        "for label in os.listdir(real_test_path):\n",
        "    real_test_dataset.append(real_test_path+'/'+label)\n",
        "\n",
        "real_test_images = []\n",
        "for filename in real_test_dataset:\n",
        "    image = cv2.imread(filename)\n",
        "    real_test_images.append(image)\n",
        "real_test_images = np.array(real_test_images)\n",
        "real_test_images.shape"
      ],
      "metadata": {
        "colab": {
          "base_uri": "https://localhost:8080/"
        },
        "id": "djKe87uEitN3",
        "outputId": "589e4ade-9566-4a38-e00a-a2e013764501"
      },
      "execution_count": null,
      "outputs": [
        {
          "output_type": "execute_result",
          "data": {
            "text/plain": [
              "(3, 144, 144, 3)"
            ]
          },
          "metadata": {},
          "execution_count": 25
        }
      ]
    },
    {
      "cell_type": "code",
      "source": [
        "train_folder_path = '/content/dataset/train'\n",
        "test_folder_path = '/content/dataset/test'\n",
        "val_folder_path = '/content/dataset/val'\n",
        "train_dataset = {}\n",
        "test_dataset = {}\n",
        "val_dataset = {}\n",
        "\n",
        "# 이미지와 라벨 리스트에 담기\n",
        "for label in os.listdir(train_folder_path):\n",
        "    sub_path = train_folder_path+'/'+label+'/'\n",
        "    train_dataset[label] = []\n",
        "    for filename in os.listdir(sub_path):\n",
        "        train_dataset[label].append(sub_path+filename)\n",
        "\n",
        "for label in os.listdir(test_folder_path):\n",
        "    sub_path = test_folder_path+'/'+label+'/'\n",
        "    test_dataset[label] = []\n",
        "    for filename in os.listdir(sub_path):\n",
        "        test_dataset[label].append(sub_path+filename)\n",
        "\n",
        "for label in os.listdir(val_folder_path):\n",
        "    sub_path = val_folder_path+'/'+label+'/'\n",
        "    val_dataset[label] = []\n",
        "    for filename in os.listdir(sub_path):\n",
        "        val_dataset[label].append(sub_path+filename)\n",
        "print(len(train_dataset), len(test_dataset), len(val_dataset))"
      ],
      "metadata": {
        "colab": {
          "base_uri": "https://localhost:8080/"
        },
        "id": "_DIczDVsMiN4",
        "outputId": "6640d065-e5c0-4a28-d5d5-71cc7e45c2ea"
      },
      "execution_count": null,
      "outputs": [
        {
          "output_type": "stream",
          "name": "stdout",
          "text": [
            "54 54 54\n"
          ]
        }
      ]
    },
    {
      "cell_type": "code",
      "source": [
        "def make_array(my_dataset, images_list, labels_list):\n",
        "    for label, filenames in tqdm(my_dataset.items()):\n",
        "        for filename in filenames:\n",
        "            image = cv2.imread(filename) # img를 array 형태로 변경\n",
        "            images_list.append(image)\n",
        "            labels_list.append([label2index[label]])\n",
        "    images_list = np.array(images_list)\n",
        "    labels_list = np.array(labels_list)\n",
        "    return images_list, labels_list"
      ],
      "metadata": {
        "id": "B-XMIgkdr00D"
      },
      "execution_count": null,
      "outputs": []
    },
    {
      "cell_type": "code",
      "source": [
        "#train set\n",
        "train_images = []\n",
        "train_labels = []\n",
        "train_images,train_labels =make_array(train_dataset, train_images, train_labels)\n",
        "\n",
        "#test set\n",
        "test_images = []\n",
        "test_labels = []\n",
        "test_images,test_labels =make_array(test_dataset, test_images, test_labels)\n",
        "\n",
        "#validation set\n",
        "val_images = []\n",
        "val_labels = []\n",
        "val_images,val_labels =make_array(val_dataset, val_images, val_labels)"
      ],
      "metadata": {
        "colab": {
          "base_uri": "https://localhost:8080/"
        },
        "id": "SMZAAHkps9aM",
        "outputId": "72f2368d-73e7-4a7e-c566-379d0edc0f98"
      },
      "execution_count": null,
      "outputs": [
        {
          "output_type": "stream",
          "name": "stderr",
          "text": [
            "100%|██████████| 54/54 [00:17<00:00,  3.06it/s]\n",
            "100%|██████████| 54/54 [00:06<00:00,  8.08it/s]\n",
            "100%|██████████| 54/54 [00:05<00:00, 10.41it/s]\n"
          ]
        }
      ]
    },
    {
      "cell_type": "code",
      "source": [
        "print(train_images.shape, test_images.shape, val_images.shape)\n",
        "print(train_labels.shape, test_labels.shape, val_labels.shape)\n",
        "print(len(train_labels), len(test_labels), len(val_labels))"
      ],
      "metadata": {
        "colab": {
          "base_uri": "https://localhost:8080/"
        },
        "id": "rkqid8WuNEtS",
        "outputId": "9c3236cf-bec8-42ea-9639-6a57d4c208be"
      },
      "execution_count": null,
      "outputs": [
        {
          "output_type": "stream",
          "name": "stdout",
          "text": [
            "(28170, 144, 144, 3) (9423, 144, 144, 3) (9383, 144, 144, 3)\n",
            "(28170, 1) (9423, 1) (9383, 1)\n",
            "28170 9423 9383\n"
          ]
        }
      ]
    },
    {
      "cell_type": "code",
      "source": [
        "y_train = tf.keras.utils.to_categorical(train_labels, len(label_names))\n",
        "y_test = tf.keras.utils.to_categorical(test_labels, len(label_names))\n",
        "y_val = tf.keras.utils.to_categorical(val_labels, len(label_names))\n",
        "\n",
        "y_train.shape, y_test.shape, y_val.shape"
      ],
      "metadata": {
        "colab": {
          "base_uri": "https://localhost:8080/"
        },
        "id": "w3MsN9ooSgyP",
        "outputId": "c2e3cee5-c0d9-4920-df2b-41257308da49"
      },
      "execution_count": null,
      "outputs": [
        {
          "output_type": "execute_result",
          "data": {
            "text/plain": [
              "((28170, 54), (9423, 54), (9383, 54))"
            ]
          },
          "metadata": {},
          "execution_count": 30
        }
      ]
    },
    {
      "cell_type": "code",
      "source": [
        "#0번째 이미지 확인하기\n",
        "plt.imshow(cv2.cvtColor(train_images[0], cv2.COLOR_BGR2RGB))"
      ],
      "metadata": {
        "colab": {
          "base_uri": "https://localhost:8080/"
        },
        "id": "rb_Bmbz_ZmZB",
        "outputId": "eba9e38a-7dd5-49ee-9f59-da5c5a045c04"
      },
      "execution_count": null,
      "outputs": [
        {
          "output_type": "execute_result",
          "data": {
            "text/plain": [
              "<matplotlib.image.AxesImage at 0x7fad7fc620a0>"
            ]
          },
          "metadata": {},
          "execution_count": 31
        },
        {
          "output_type": "display_data",
          "data": {
            "text/plain": [
              "<Figure size 432x288 with 1 Axes>"
            ],
            "image/png": "[encoded data removed]"
          },
          "metadata": {
            "needs_background": "light"
          }
        }
      ]
    },
    {
      "cell_type": "markdown",
      "source": [
        "#### Zero-centering"
      ],
      "metadata": {
        "id": "zx1zE-T6F2bf"
      }
    },
    {
      "cell_type": "code",
      "source": [
        "# zero-centering\n",
        "compute_mean = lambda imgs : np.mean(imgs, axis=0)\n",
        "mean_img = compute_mean(train_images)\n",
        "mean_img.shape"
      ],
      "metadata": {
        "id": "CXCDOm1vFvZ6",
        "colab": {
          "base_uri": "https://localhost:8080/"
        },
        "outputId": "912fa0ce-43aa-4bbb-e784-4bc79a978904"
      },
      "execution_count": null,
      "outputs": [
        {
          "output_type": "execute_result",
          "data": {
            "text/plain": [
              "(144, 144, 3)"
            ]
          },
          "metadata": {},
          "execution_count": 32
        }
      ]
    },
    {
      "cell_type": "code",
      "source": [
        "sub_mean_img = lambda image : image.astype('int8') - mean_img.astype('int8')\n",
        "x_train = sub_mean_img(train_images)\n",
        "x_test = sub_mean_img(test_images)\n",
        "x_val = sub_mean_img(val_images)\n",
        "x_real_test = sub_mean_img(real_test_images)\n",
        "x_train.shape, x_test.shape, x_val.shape, x_real_test.shape"
      ],
      "metadata": {
        "colab": {
          "base_uri": "https://localhost:8080/"
        },
        "id": "xrVxOd-sF8x3",
        "outputId": "9db0d2dc-f350-4855-e8a8-80fb0006b94a"
      },
      "execution_count": null,
      "outputs": [
        {
          "output_type": "execute_result",
          "data": {
            "text/plain": [
              "((28170, 144, 144, 3),\n",
              " (9423, 144, 144, 3),\n",
              " (9383, 144, 144, 3),\n",
              " (3, 144, 144, 3))"
            ]
          },
          "metadata": {},
          "execution_count": 33
        }
      ]
    },
    {
      "cell_type": "code",
      "source": [
        "with open('/content/drive/MyDrive/이미지 분류 프로젝트(주은, 준석, 기훈)/output/x_real_test.pickle', 'wb') as f3:\n",
        "    pickle.dump(x_real_test, f3)"
      ],
      "metadata": {
        "id": "8-qR2wimN4vH"
      },
      "execution_count": null,
      "outputs": []
    },
    {
      "cell_type": "markdown",
      "source": [
        "아래줄을 실행하기 전에 드라이브 마운트 필요"
      ],
      "metadata": {
        "id": "qaCX6zIP0max"
      }
    },
    {
      "cell_type": "code",
      "source": [
        "#드라이브에 바로 저장- 이미지\n",
        "with open('/content/drive/MyDrive/이미지 분류 프로젝트(주은, 준석, 기훈)/output/x_train.pickle', 'wb') as f1:\n",
        "    pickle.dump(x_train, f1)\n",
        "with open('/content/drive/MyDrive/이미지 분류 프로젝트(주은, 준석, 기훈)/output/x_test.pickle', 'wb') as f2:\n",
        "    pickle.dump(x_test, f2)\n",
        "with open('/content/drive/MyDrive/이미지 분류 프로젝트(주은, 준석, 기훈)/output/x_val.pickle', 'wb') as f3:\n",
        "    pickle.dump(x_val, f3)"
      ],
      "metadata": {
        "id": "2brYTQl0isg3"
      },
      "execution_count": null,
      "outputs": []
    },
    {
      "cell_type": "code",
      "source": [
        "#드라이브에 바로 저장- label\n",
        "with open('/content/drive/MyDrive/이미지 분류 프로젝트(주은, 준석, 기훈)/output/train_labels.pickle', 'wb') as f1:\n",
        "    pickle.dump(y_train, f1)\n",
        "with open('/content/drive/MyDrive/이미지 분류 프로젝트(주은, 준석, 기훈)/output/test_labels.pickle', 'wb') as f2:\n",
        "    pickle.dump(y_test, f2)\n",
        "with open('/content/drive/MyDrive/이미지 분류 프로젝트(주은, 준석, 기훈)/output/val_labels.pickle', 'wb') as f3:\n",
        "    pickle.dump(y_val, f3)"
      ],
      "metadata": {
        "id": "ZLaqWyff8yK7"
      },
      "execution_count": null,
      "outputs": []
    },
    {
      "cell_type": "code",
      "source": [],
      "metadata": {
        "id": "XQsDsvxDwybn"
      },
      "execution_count": null,
      "outputs": []
    }
  ]
}